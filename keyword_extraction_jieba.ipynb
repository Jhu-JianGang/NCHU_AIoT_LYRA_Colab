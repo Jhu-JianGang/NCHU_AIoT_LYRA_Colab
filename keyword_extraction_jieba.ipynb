{
  "nbformat": 4,
  "nbformat_minor": 0,
  "metadata": {
    "colab": {
      "provenance": [],
      "gpuType": "T4",
      "authorship_tag": "ABX9TyNjjUrwNHq+bjaN8mKk4nlg",
      "include_colab_link": true
    },
    "kernelspec": {
      "name": "python3",
      "display_name": "Python 3"
    },
    "language_info": {
      "name": "python"
    },
    "accelerator": "GPU"
  },
  "cells": [
    {
      "cell_type": "markdown",
      "metadata": {
        "id": "view-in-github",
        "colab_type": "text"
      },
      "source": [
        "<a href=\"https://colab.research.google.com/github/Jhu-JianGang/NCHU_AIoT_LYRA_Colab/blob/main/keyword_extraction_jieba.ipynb\" target=\"_parent\"><img src=\"https://colab.research.google.com/assets/colab-badge.svg\" alt=\"Open In Colab\"/></a>"
      ]
    },
    {
      "cell_type": "code",
      "execution_count": 5,
      "metadata": {
        "colab": {
          "base_uri": "https://localhost:8080/"
        },
        "id": "noXJOa2vNrdf",
        "outputId": "90bfd87c-a9e1-4f48-81d7-8b9ac7b59efe"
      },
      "outputs": [
        {
          "output_type": "stream",
          "name": "stdout",
          "text": [
            "----------------------------------------\n",
            " TF-IDF\n",
            "----------------------------------------\n",
            "鋼鐵人 0.5647921654913385\n",
            "林書豪 0.376528110327559\n",
            "MVP 0.28239608274566924\n",
            "球員 0.28239608274566924\n",
            "助攻 0.25429567171653544\n",
            "本季 0.24243523209921258\n",
            "球迷 0.21527210809110234\n",
            "12 0.1882640551637795\n",
            "21 0.1882640551637795\n",
            "單場 0.1882640551637795\n",
            "13 0.1882640551637795\n",
            "聯盟 0.1882640551637795\n",
            "紀錄 0.1882640551637795\n",
            "獲選 0.1882640551637795\n",
            "LEAGUE 0.1882640551637795\n",
            "單週 0.1882640551637795\n",
            "出賽 0.1882640551637795\n",
            "PLG 0.1882640551637795\n",
            "首名 0.18616119858740157\n",
            "中洲 0.09534581246220472\n"
          ]
        }
      ],
      "source": [
        "#encoding=utf-8\n",
        "from __future__ import unicode_literals\n",
        "import sys\n",
        "sys.path.append(\"../\")\n",
        "\n",
        "import jieba\n",
        "import jieba.posseg\n",
        "import jieba.analyse\n",
        "\n",
        "print('-'*40)\n",
        "print(' TF-IDF')\n",
        "print('-'*40)\n",
        "\n",
        "# text=\"明天是適合結婚的好日子，請推薦給我適合在結婚中放的歌曲\"\n",
        "# text=\"今天是星期一下雨天,請推薦給我適合下雨天聽的歌\"\n",
        "text=\"台裔球星林書豪加盟高雄17直播鋼鐵人，12日首秀拿下21分，而個人單場13助攻追平聯盟紀錄，獲選台灣職籃P.LEAGUE+單週MVP，也是鋼鐵人本季首名獲此殊榮的球員。林書豪在球迷引頸期盼下，12日在主場高雄市鳳山體育館首度披上鋼鐵人7號戰袍出賽，率隊以95比80擊敗福爾摩沙台新夢想家，收下本季第3勝，終止4連敗。林書豪首秀先發上陣，吸引滿場超過5000名球迷進場，出賽逾41分鐘，繳出21分、13助攻的「雙10」成績，其中單場助攻數，更一舉追平台灣職籃P.LEAGUE+（簡稱PLG）紀錄。PLG聯盟今天公布第15週單週MVP，在球迷票選的部分，林書豪獲得66.9%壓倒性的得票率，成為鋼鐵人本季首名獲選單週最有價值球員（MVP）的球員。鋼鐵人接下來將展開客場之旅，18日將作客台中洲際迷你蛋，對手同樣是夢想家，鋼鐵人在林書豪帶領下，將力拚2連勝。\"\n",
        "# text=\"today is rainny day ,please recommend some songs\"\n",
        "# text=\"此外，公司拟对全资子公司吉林欧亚置业有限公司增资4.3亿元，增资后，吉林欧亚置业注册资本由7000万元增加到5亿元。吉林欧亚置业主要经营范围为房地产开发及百货零售等业务。目前在建吉林欧亚城市商业综合体项目。2013年，实现营业收入0万元，实现净利润-139.13万元。\"\n",
        "\n",
        "for x, w in jieba.analyse.extract_tags(text, withWeight=True):\n",
        "    print('%s %s' % (x, w))"
      ]
    }
  ]
}