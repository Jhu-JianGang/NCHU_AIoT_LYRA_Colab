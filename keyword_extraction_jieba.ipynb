{
  "nbformat": 4,
  "nbformat_minor": 0,
  "metadata": {
    "colab": {
      "provenance": [],
      "gpuType": "T4",
      "authorship_tag": "ABX9TyOxV4K0dObKt2fQfY2flOVp",
      "include_colab_link": true
    },
    "kernelspec": {
      "name": "python3",
      "display_name": "Python 3"
    },
    "language_info": {
      "name": "python"
    },
    "accelerator": "GPU"
  },
  "cells": [
    {
      "cell_type": "markdown",
      "metadata": {
        "id": "view-in-github",
        "colab_type": "text"
      },
      "source": [
        "<a href=\"https://colab.research.google.com/github/Jhu-JianGang/NCHU_AIoT_LYRA_Colab/blob/main/keyword_extration_jieba.ipynb\" target=\"_parent\"><img src=\"https://colab.research.google.com/assets/colab-badge.svg\" alt=\"Open In Colab\"/></a>"
      ]
    },
    {
      "cell_type": "code",
      "execution_count": 1,
      "metadata": {
        "colab": {
          "base_uri": "https://localhost:8080/"
        },
        "id": "noXJOa2vNrdf",
        "outputId": "17f79e3d-5a6f-4a0d-82a9-bf71676efd15"
      },
      "outputs": [
        {
          "output_type": "stream",
          "name": "stderr",
          "text": [
            "Building prefix dict from the default dictionary ...\n",
            "DEBUG:jieba:Building prefix dict from the default dictionary ...\n"
          ]
        },
        {
          "output_type": "stream",
          "name": "stdout",
          "text": [
            "----------------------------------------\n",
            " TF-IDF\n",
            "----------------------------------------\n"
          ]
        },
        {
          "output_type": "stream",
          "name": "stderr",
          "text": [
            "Dumping model to file cache /tmp/jieba.cache\n",
            "DEBUG:jieba:Dumping model to file cache /tmp/jieba.cache\n",
            "Loading model cost 4.409 seconds.\n",
            "DEBUG:jieba:Loading model cost 4.409 seconds.\n",
            "Prefix dict has been built successfully.\n",
            "DEBUG:jieba:Prefix dict has been built successfully.\n"
          ]
        },
        {
          "output_type": "stream",
          "name": "stdout",
          "text": [
            "欧亚 0.7300142700289363\n",
            "吉林 0.659038184373617\n",
            "置业 0.4887134522112766\n",
            "万元 0.3392722481859574\n",
            "增资 0.33582401985234045\n",
            "4.3 0.25435675538085106\n",
            "7000 0.25435675538085106\n",
            "2013 0.25435675538085106\n",
            "139.13 0.25435675538085106\n",
            "实现 0.19900979900382978\n",
            "综合体 0.19480309624702127\n",
            "经营范围 0.19389757253595744\n",
            "亿元 0.1914421623587234\n",
            "在建 0.17541884768425534\n",
            "全资 0.17180164988510638\n",
            "注册资本 0.1712441526\n",
            "百货 0.16734460041382979\n",
            "零售 0.1475057117057447\n",
            "子公司 0.14596045237787234\n",
            "营业 0.13920178509021275\n"
          ]
        }
      ],
      "source": [
        "#encoding=utf-8\n",
        "from __future__ import unicode_literals\n",
        "import sys\n",
        "sys.path.append(\"../\")\n",
        "\n",
        "import jieba\n",
        "import jieba.posseg\n",
        "import jieba.analyse\n",
        "\n",
        "print('-'*40)\n",
        "print(' TF-IDF')\n",
        "print('-'*40)\n",
        "\n",
        "# text=\"明天是適合結婚的好日子，請推薦給我適合在結婚中放的歌曲\"\n",
        "# text=\"今天是星期一下雨天,請推薦給我適合下雨天聽的歌\"\n",
        "# text=\"台裔球星林書豪加盟高雄17直播鋼鐵人，12日首秀拿下21分，而個人單場13助攻追平聯盟紀錄，獲選台灣職籃P.LEAGUE+單週MVP，也是鋼鐵人本季首名獲此殊榮的球員。林書豪在球迷引頸期盼下，12日在主場高雄市鳳山體育館首度披上鋼鐵人7號戰袍出賽，率隊以95比80擊敗福爾摩沙台新夢想家，收下本季第3勝，終止4連敗。林書豪首秀先發上陣，吸引滿場超過5000名球迷進場，出賽逾41分鐘，繳出21分、13助攻的「雙10」成績，其中單場助攻數，更一舉追平台灣職籃P.LEAGUE+（簡稱PLG）紀錄。PLG聯盟今天公布第15週單週MVP，在球迷票選的部分，林書豪獲得66.9%壓倒性的得票率，成為鋼鐵人本季首名獲選單週最有價值球員（MVP）的球員。鋼鐵人接下來將展開客場之旅，18日將作客台中洲際迷你蛋，對手同樣是夢想家，鋼鐵人在林書豪帶領下，將力拚2連勝。\"\n",
        "# text=\"today is rainny day ,please recommend some songs\"\n",
        "text=\"此外，公司拟对全资子公司吉林欧亚置业有限公司增资4.3亿元，增资后，吉林欧亚置业注册资本由7000万元增加到5亿元。吉林欧亚置业主要经营范围为房地产开发及百货零售等业务。目前在建吉林欧亚城市商业综合体项目。2013年，实现营业收入0万元，实现净利润-139.13万元。\"\n",
        "\n",
        "for x, w in jieba.analyse.extract_tags(text, withWeight=True):\n",
        "    print('%s %s' % (x, w))"
      ]
    }
  ]
}
